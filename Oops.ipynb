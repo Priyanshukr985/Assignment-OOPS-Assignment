{
  "nbformat": 4,
  "nbformat_minor": 0,
  "metadata": {
    "colab": {
      "provenance": []
    },
    "kernelspec": {
      "name": "python3",
      "display_name": "Python 3"
    },
    "language_info": {
      "name": "python"
    }
  },
  "cells": [
    {
      "cell_type": "markdown",
      "source": [
        "# THEORY QUESTIONS"
      ],
      "metadata": {
        "id": "DJFghwzsU6vQ"
      }
    },
    {
      "cell_type": "markdown",
      "source": [
        "Q1. What is Object-Oriented Programming (OOP) ?\n",
        "\n",
        "Ans1.\n",
        "Object-Oriented Programming (OOP) is a programming paradigm (style of coding) that organizes code around objects instead of functions and logic.\n",
        "\n",
        "Q2. What is a class in OOP?\n",
        "\n",
        "Ans2. a class is a blueprint or template for creating objects\n",
        "\n",
        "Q3. What is an object in OOP?\n",
        "\n",
        "Ans3. An Object is an instance of a Class. It represents a specific implementation of the class and holds its own data.\n",
        "\n",
        "Q4. What is the difference between abstraction and encapsulation?\n",
        "\n",
        "Ans4. Abstraction = Hiding implementation details and showing essential features.\n",
        "\n",
        "Encapsulation = Binding data and methods into a single unit and restricting direct access.\n",
        "\n",
        "Q5. What are dunder methods in Python?\n",
        "\n",
        "Ans5. Dunder Methods in Python\n",
        "\n",
        "Dunder = Double UNDerscore.\n",
        "\n",
        "These are special, predefined methods in Python whose names start and end with double underscores (__method__).\n",
        "\n",
        "They are also called magic methods because they let us define how objects of a class should behave with operators, functions, or built-in behavior.\n",
        "\n",
        "Q6.  Explain the concept of inheritance in OOP.\n",
        "\n",
        "Ans6. Inheritance is an OOP principle where a child class acquires the attributes and methods of a parent class, enabling code reusability and method overriding.\n",
        "\n",
        "Q7. What is polymorphism in OOP?\n",
        "\n",
        "Ans7. Polymorphism means \"many forms\".\n",
        "In OOP, it allows the same function, method, or operator to behave differently depending on the object .\n",
        "\n",
        "Q8.  How is encapsulation achieved in Python?\n",
        "\n",
        "Ans8. Encapsulation in Python is achieved by using access modifiers (public, protected, private) and getter/setter methods, which help in data hiding, security, and controlled access to attributes.\n",
        "\n",
        "Q9. What is a constructor in Python?\n",
        "\n",
        "Ans9. In Python, the constructor is defined using __init__().\n",
        "\n",
        "It is invoked automatically at the time of object creation.\n",
        "\n",
        "Used for initializing data members of a class.\n",
        "\n",
        "\n",
        "Q10. What are class and static methods in Python?\n",
        "\n",
        "Ans10. lass Method: Works with the class as a whole (takes cls).\n",
        "\n",
        "Static Method: Utility method inside a class (independent of class/objects).\n",
        "\n",
        "Q11. What is method overloading in Python?\n",
        "\n",
        "Ans11. Method Overloading means having multiple methods with the same name but different parameters (number/type).\n",
        "\n",
        "Q12. What is method overriding in OOP?\n",
        "\n",
        "Ans12. Method Overriding: When a subclass provides a specific implementation of a method already defined in its superclass. It is used for runtime polymorphism.\n",
        "\n",
        "Q13. What is a property decorator in Python?\n",
        "\n",
        "Ans13. Property decorator (@property) is used in Python to define methods that can be accessed like attributes, providing a clean way to implement getters, setters, and deleters while maintaining encapsulation.\n",
        "\n",
        "Q14.  Why is polymorphism important in OOP?\n",
        "\n",
        "Ans14. Polymorphism is important in OOP because it increases code reusability, flexibility, and maintainability by allowing the same interface (method name) to be used with different underlying data types (objects).\n",
        "\n",
        "Q15. What is an abstract class in Python?\n",
        "\n",
        "Ans15. An abstract class in Python is a class defined using the abc module that cannot be instantiated and is used to provide a blueprint for other classes by defining abstract methods.\n",
        "\n",
        "Q16. What are the advantages of OOP?\n",
        "\n",
        "#Ans16. Advantages of Object-Oriented Programming (OOP)\n",
        "\n",
        "Modularity\n",
        "\n",
        "Code is organized into classes and objects, making it modular and easier to manage.\n",
        "\n",
        "Reusability\n",
        "\n",
        "Classes and methods can be reused across multiple programs (code reuse through inheritance).\n",
        "\n",
        "Abstraction\n",
        "\n",
        "Hides unnecessary details and shows only the essential features, reducing complexity.\n",
        "\n",
        "Encapsulation\n",
        "\n",
        "Data and methods are bundled together; access modifiers can restrict direct access to data, improving security.\n",
        "\n",
        "Polymorphism\n",
        "\n",
        "Allows the same function/method name to behave differently depending on the object (increases flexibility).\n",
        "\n",
        "Inheritance\n",
        "\n",
        "Allows new classes to reuse properties and methods of existing classes, reducing code duplication.\n",
        "\n",
        "Maintainability\n",
        "\n",
        "OOP code is easier to debug, update, and maintain due to clear structure.\n",
        "\n",
        "Extensibility\n",
        "\n",
        "New features or classes can be added without modifying existing code.\n",
        "\n",
        "Real-world Modeling\n",
        "\n",
        "Objects in code represent real-world entities, making problem-solving more natural.\n",
        "\n",
        "Q17. What is the difference between a class variable and an instance variable?\n",
        "\n",
        "Ans17. Class variable → Shared by all objects of a class.\n",
        "\n",
        "Instance variable → Unique to each object.\n",
        "\n",
        "Q18. What is multiple inheritance in Python?\n",
        "\n",
        "Ans18. Multiple inheritance allows a class to inherit from multiple parent classes. Python resolves conflicts using MRO (Method Resolution Order).\n",
        "\n",
        "Q19. Explain the purpose of ‘’__str__’ and ‘__repr__’ ‘ methods in Python?\n",
        "\n",
        "Ans19. __str__ → Used for readable output (user-friendly).\n",
        "\n",
        "__repr__ → Used for unambiguous output (developer/debug-friendly).\n",
        "\n",
        "Q20. What is the significance of the ‘super()’ function in Python?\n",
        "\n",
        "Ans20. super is essential for clean and maintainable object-oriented code. It allows you to:\n",
        "\n",
        "Call parent methods easily\n",
        "\n",
        "Avoid hardcoding parent class names\n",
        "\n",
        "Handle multiple inheritance safely\n",
        "\n",
        "Chain constructors properly\n",
        "\n",
        "Q21. What is the significance of the __del__ method in Python?\n",
        "\n",
        "Ans21. The __del__ method in Python is a special method also called a destructor. It is invoked when an object is about to be destroyed, allowing you to perform cleanup actions, like releasing resources or closing files.\n",
        "\n",
        "Q22. What is the difference between @staticmethod and @classmethod in Python?\n",
        "\n",
        "Ans22. @staticmethod\n",
        "\n",
        "Doesn’t take self or cls.\n",
        "\n",
        "Cannot access instance or class variables.\n",
        "\n",
        "Used for utility methods.\n",
        "\n",
        "Called via class or instance.\n",
        "\n",
        "@classmethod\n",
        "\n",
        "Takes cls as the first parameter.\n",
        "\n",
        "Can access/modify class variables.\n",
        "\n",
        "Used for factory methods or class-level logic.\n",
        "\n",
        "Called via class or instance.\n",
        "\n",
        "Key difference:\n",
        "staticmethod → no class/instance access.\n",
        "classmethod → has access to class (cls).\n",
        "\n",
        "\n",
        "Q23. How does polymorphism work in Python with inheritance?\n",
        "\n",
        "Ans23. Polymorphism: same method name, different behavior.\n",
        "\n",
        "Inheritance enables it via method overriding.\n",
        "\n",
        "Python resolves at runtime (dynamic polymorphism).\n",
        "\n",
        "Q24. What is method chaining in Python OOP?\n",
        "\n",
        "Ans24. Method chaining is a technique where multiple methods are called sequentially on the same object in a single statement.\n",
        "\n",
        "Each method returns self (the object itself) so that the next method can be called.\n",
        "\n",
        "Makes code concise and readable.\n",
        "\n",
        "Q25. What is the purpose of the __call__ method in Python?\n",
        "\n",
        "Ans25. __call__ Method\n",
        "\n",
        "__call__ is a special method that allows an instance of a class to be called like a function.\n",
        "\n",
        "When you write obj(), Python internally executes obj.__call__().\n"
      ],
      "metadata": {
        "id": "XcbC9rGSU-Rf"
      }
    },
    {
      "cell_type": "markdown",
      "source": [
        "#END OF THEORY QUESTIONS"
      ],
      "metadata": {
        "id": "RF9CnJ1qcckE"
      }
    },
    {
      "cell_type": "markdown",
      "source": [
        "#PRACTICAL QUESTIONS"
      ],
      "metadata": {
        "id": "Q1Z7l6WKch4c"
      }
    },
    {
      "cell_type": "code",
      "source": [
        "# quesn 1 Create a parent class Animal with a method speak() that prints a generic message. Create a child class Dog\n",
        "# that overrides the speak() method to print \"Bark!\".\n",
        "\n",
        "\n",
        "class Animal:\n",
        "    def speak(self):\n",
        "        print(\"This animal makes a sound.\")\n",
        "\n",
        "\n",
        "class Dog(Animal):\n",
        "    def speak(self):\n",
        "        print(\"Bark!\")\n",
        "\n",
        "\n",
        "a = Animal()\n",
        "a.speak()\n",
        "\n",
        "d = Dog()\n",
        "d.speak()\n",
        "\n",
        "\n"
      ],
      "metadata": {
        "colab": {
          "base_uri": "https://localhost:8080/"
        },
        "id": "ooV6j1dycki0",
        "outputId": "4f5a09ca-01ca-42b5-e97c-ff771ff8a1e8"
      },
      "execution_count": null,
      "outputs": [
        {
          "output_type": "stream",
          "name": "stdout",
          "text": [
            "This animal makes a sound.\n",
            "Bark!\n"
          ]
        }
      ]
    },
    {
      "cell_type": "code",
      "source": [
        "'''Q2 Write a program to create an abstract class Shape with a method area(). Derive classes Circle and Rectangle\n",
        "from it and implement the area() method in both.'''\n",
        "\n",
        "from abc import ABC, abstractmethod\n",
        "import math\n",
        "\n",
        "\n",
        "class Shape(ABC):\n",
        "    @abstractmethod\n",
        "    def area(self):\n",
        "        pass\n",
        "\n",
        "# Circle class\n",
        "class Circle(Shape):\n",
        "    def __init__(self, radius):\n",
        "        self.radius = radius\n",
        "\n",
        "    def area(self):\n",
        "        return math.pi * self.radius ** 2\n",
        "\n",
        "# Rectangle class\n",
        "class Rectangle(Shape):\n",
        "    def __init__(self, length, width):\n",
        "        self.length = length\n",
        "        self.width = width\n",
        "\n",
        "    def area(self):\n",
        "        return self.length * self.width\n",
        "\n",
        "\n",
        "c = Circle(5)\n",
        "print(\"Circle area:\", c.area())\n",
        "\n",
        "r = Rectangle(4, 6)\n",
        "print(\"Rectangle area:\", r.area())\n",
        "\n",
        "\n",
        "\n"
      ],
      "metadata": {
        "colab": {
          "base_uri": "https://localhost:8080/"
        },
        "id": "hWDGYZZddtK9",
        "outputId": "f66325dc-45e1-42b7-ed63-c5a0b83f69b8"
      },
      "execution_count": null,
      "outputs": [
        {
          "output_type": "stream",
          "name": "stdout",
          "text": [
            "Circle area: 78.53981633974483\n",
            "Rectangle area: 24\n"
          ]
        }
      ]
    },
    {
      "cell_type": "code",
      "source": [
        "''' Q3  Implement a multi-level inheritance scenario where a class Vehicle has an attribute type. Derive a class Car\n",
        "and further derive a class ElectricCar that adds a battery attribute. '''\n",
        "\n",
        "class Vehicle:\n",
        "    def __init__(self, vehicle_type):\n",
        "        self.type = vehicle_type\n",
        "\n",
        "    def show_type(self):\n",
        "        print(\"Vehicle type:\", self.type)\n",
        "\n",
        "\n",
        "class Car(Vehicle):\n",
        "    def __init__(self, vehicle_type, brand):\n",
        "        super().__init__(vehicle_type)\n",
        "        self.brand = brand\n",
        "\n",
        "    def show_brand(self):\n",
        "        print(\"Car brand:\", self.brand)\n",
        "\n",
        "\n",
        "class ElectricCar(Car):\n",
        "    def __init__(self, vehicle_type, brand, battery):\n",
        "        super().__init__(vehicle_type, brand)\n",
        "        self.battery = battery\n",
        "\n",
        "    def show_battery(self):\n",
        "        print(\"Battery capacity:\", self.battery, \"kWh\")\n",
        "\n",
        "\n",
        "ecar = ElectricCar(\"Car\", \"Tesla\", 100)\n",
        "ecar.show_type()\n",
        "ecar.show_brand()\n",
        "ecar.show_battery()\n"
      ],
      "metadata": {
        "colab": {
          "base_uri": "https://localhost:8080/"
        },
        "id": "SLVSe5VrfoQC",
        "outputId": "4d874361-afe2-4e6f-e2a7-e70ebf65641c"
      },
      "execution_count": null,
      "outputs": [
        {
          "output_type": "stream",
          "name": "stdout",
          "text": [
            "Vehicle type: Car\n",
            "Car brand: Tesla\n",
            "Battery capacity: 100 kWh\n"
          ]
        }
      ]
    },
    {
      "cell_type": "code",
      "source": [
        "''' Q4. Demonstrate polymorphism by creating a base class Bird with a method fly(). Create two derived classes\n",
        "Sparrow and Penguin that override the fly() method. '''\n",
        "\n",
        "\n",
        "class Bird:\n",
        "    def fly(self):\n",
        "        print(\"Some birds can fly.\")\n",
        "\n",
        "\n",
        "class Sparrow(Bird):\n",
        "    def fly(self):\n",
        "        print(\"Sparrow can fly high!\")\n",
        "\n",
        "\n",
        "class Penguin(Bird):\n",
        "    def fly(self):\n",
        "        print(\"Penguin cannot fly, it swims.\")\n",
        "\n",
        "\n",
        "birds = [Sparrow(), Penguin()]\n",
        "\n",
        "for bird in birds:\n",
        "    bird.fly()\n",
        "\n",
        "\n",
        "\n"
      ],
      "metadata": {
        "colab": {
          "base_uri": "https://localhost:8080/"
        },
        "id": "ErVlx0g4gEMW",
        "outputId": "6d941331-4edc-4839-8331-d21a170f3643"
      },
      "execution_count": null,
      "outputs": [
        {
          "output_type": "stream",
          "name": "stdout",
          "text": [
            "Sparrow can fly high!\n",
            "Penguin cannot fly, it swims.\n"
          ]
        }
      ]
    },
    {
      "cell_type": "code",
      "source": [
        "''' Q5. Write a program to demonstrate encapsulation by creating a class BankAccount with private attributes\n",
        "balance and methods to deposit, withdraw, and check balance.'''\n",
        "\n",
        "\n",
        "class BankAccount:\n",
        "    def __init__(self, initial_balance):\n",
        "        self.__balance = initial_balance  # Private attribute\n",
        "\n",
        "    # Method to deposit money\n",
        "    def deposit(self, amount):\n",
        "        if amount > 0:\n",
        "            self.__balance += amount\n",
        "            print(f\"Deposited: {amount}\")\n",
        "        else:\n",
        "            print(\"Deposit amount must be positive.\")\n",
        "\n",
        "    # Method to withdraw money\n",
        "    def withdraw(self, amount):\n",
        "        if 0 < amount <= self.__balance:\n",
        "            self.__balance -= amount\n",
        "            print(f\"Withdrawn: {amount}\")\n",
        "        else:\n",
        "            print(\"Insufficient balance or invalid amount.\")\n",
        "\n",
        "\n",
        "    def check_balance(self):\n",
        "        print(f\"Current balance: {self.__balance}\")\n",
        "\n",
        "\n",
        "account = BankAccount(2000)\n",
        "account.deposit(2500)\n",
        "account.withdraw(300)\n",
        "account.check_balance()\n",
        "\n",
        "\n"
      ],
      "metadata": {
        "colab": {
          "base_uri": "https://localhost:8080/"
        },
        "id": "S1XWPaQjgaAh",
        "outputId": "6f263c59-b305-4081-8174-6ad4094c8f18"
      },
      "execution_count": null,
      "outputs": [
        {
          "output_type": "stream",
          "name": "stdout",
          "text": [
            "Deposited: 2500\n",
            "Withdrawn: 300\n",
            "Current balance: 4200\n"
          ]
        }
      ]
    },
    {
      "cell_type": "code",
      "source": [
        "''' Q6 Demonstrate runtime polymorphism using a method play() in a base class Instrument. Derive classes Guitar\n",
        "and Piano that implement their own version of play().'''\n",
        "\n",
        "\n",
        "\n",
        "\n",
        "class Instrument:\n",
        "    def play(self):\n",
        "        print(\"Playing an instrument\")\n",
        "\n",
        "class Guitar(Instrument):\n",
        "    def play(self):\n",
        "        print(\"Playing guitar\")\n",
        "\n",
        "class Piano(Instrument):\n",
        "    def play(self):\n",
        "        print(\"Playing piano\")\n",
        "\n",
        "# List of instruments\n",
        "instruments = [Instrument(), Guitar(), Piano()]\n",
        "\n",
        "for inst in instruments:\n",
        "    inst.play()\n"
      ],
      "metadata": {
        "id": "-z94OuRChG39",
        "colab": {
          "base_uri": "https://localhost:8080/"
        },
        "outputId": "1aeb6095-642a-4208-8bbd-7d7c5234a4c2"
      },
      "execution_count": 10,
      "outputs": [
        {
          "output_type": "stream",
          "name": "stdout",
          "text": [
            "Playing an instrument\n",
            "Playing guitar\n",
            "Playing piano\n"
          ]
        }
      ]
    },
    {
      "cell_type": "code",
      "source": [
        "'''Q7  Create a class MathOperations with a class method add_numbers() to add two numbers and a static\n",
        "method subtract_numbers() to subtract two numbers. '''\n",
        "\n",
        "class MathOperations:\n",
        "    # Class method\n",
        "    @classmethod\n",
        "    def add_numbers(cls, a, b):\n",
        "        return a + b\n",
        "\n",
        "    # Static method\n",
        "    @staticmethod\n",
        "    def subtract_numbers(a, b):\n",
        "        return a - b\n",
        "\n",
        "# Using the class method\n",
        "sum_result = MathOperations.add_numbers(10, 5)\n",
        "print(\"Sum:\", sum_result)\n",
        "\n",
        "# Using the static method\n",
        "diff_result = MathOperations.subtract_numbers(10, 5)\n",
        "print(\"Difference:\", diff_result)\n"
      ],
      "metadata": {
        "colab": {
          "base_uri": "https://localhost:8080/"
        },
        "id": "8b50XLzPnzgP",
        "outputId": "1c88247f-2662-46a2-f0af-0822c055ad1d"
      },
      "execution_count": 11,
      "outputs": [
        {
          "output_type": "stream",
          "name": "stdout",
          "text": [
            "Sum: 15\n",
            "Difference: 5\n"
          ]
        }
      ]
    },
    {
      "cell_type": "code",
      "source": [
        "'''Q8 Implement a class Person with a class method to count the total number of persons created.'''\n",
        "\n",
        "class Person:\n",
        "    count = 0\n",
        "\n",
        "    def __init__(self, name):\n",
        "        self.name = name\n",
        "        Person.count += 1\n",
        "\n",
        "\n",
        "    @classmethod\n",
        "    def total_persons(cls):\n",
        "        return cls.count\n",
        "\n",
        "\n",
        "p1 = Person(\"Payal\")\n",
        "p2 = Person(\"Ansh\")\n",
        "p3 = Person(\"Anurag\")\n",
        "p4 = Person(\"Hrishikesh\")\n",
        "p5 = Person(\"Priyanshu\")\n",
        "\n",
        "\n",
        "print(\"Total persons:\", Person.total_persons())\n"
      ],
      "metadata": {
        "colab": {
          "base_uri": "https://localhost:8080/"
        },
        "id": "eowtNHAvoEPI",
        "outputId": "748afa4f-c582-47e9-8014-837933faa8d6"
      },
      "execution_count": 15,
      "outputs": [
        {
          "output_type": "stream",
          "name": "stdout",
          "text": [
            "Total persons: 5\n"
          ]
        }
      ]
    },
    {
      "cell_type": "code",
      "source": [
        "'''Q9  Write a class Fraction with attributes numerator and denominator. Override the str method to display the\n",
        "fraction as \"numerator/denominator\".'''\n",
        "\n",
        "class Fraction:\n",
        "    def __init__(self, numerator, denominator):\n",
        "        self.numerator = numerator\n",
        "        self.denominator = denominator\n",
        "\n",
        "\n",
        "    def __str__(self):\n",
        "        return f\"{self.numerator}/{self.denominator}\"\n",
        "\n",
        "\n",
        "f1 = Fraction(3, 4)\n",
        "f2 = Fraction(5, 2)\n",
        "\n",
        "\n",
        "print(f1)\n",
        "print(f2)\n"
      ],
      "metadata": {
        "colab": {
          "base_uri": "https://localhost:8080/"
        },
        "id": "NjeJ4YQqocAt",
        "outputId": "0b1ab668-d9ae-4d3e-9451-d32ca421f9e0"
      },
      "execution_count": 17,
      "outputs": [
        {
          "output_type": "stream",
          "name": "stdout",
          "text": [
            "3/4\n",
            "5/2\n"
          ]
        }
      ]
    },
    {
      "cell_type": "code",
      "source": [
        "'''Q10  Demonstrate operator overloading by creating a class Vector and overriding the add method to add two\n",
        "vectors.'''\n",
        "\n",
        "class Vector:\n",
        "    def __init__(self, x, y):\n",
        "        self.x = x\n",
        "        self.y = y\n",
        "\n",
        "\n",
        "    def __add__(self, other):\n",
        "        return Vector(self.x + other.x, self.y + other.y)\n",
        "\n",
        "\n",
        "    def __str__(self):\n",
        "        return f\"({self.x}, {self.y})\"\n",
        "\n",
        "\n",
        "v1 = Vector(2, 3)\n",
        "v2 = Vector(4, 5)\n",
        "\n",
        "\n",
        "v3 = v1 + v2\n",
        "\n",
        "print(\"v1 + v2 =\", v3)\n"
      ],
      "metadata": {
        "colab": {
          "base_uri": "https://localhost:8080/"
        },
        "id": "kXDSyYOhpORZ",
        "outputId": "022356cf-2ac3-4e1d-e7bc-c87fca31597e"
      },
      "execution_count": 18,
      "outputs": [
        {
          "output_type": "stream",
          "name": "stdout",
          "text": [
            "v1 + v2 = (6, 8)\n"
          ]
        }
      ]
    },
    {
      "cell_type": "code",
      "source": [
        "'''Q11  Create a class Person with attributes name and age. Add a method greet() that prints \"Hello, my name is\n",
        "{name} and I am {age} years old.\" '''\n",
        "\n",
        "class Person:\n",
        "    def __init__(self, name, age):\n",
        "        self.name = name\n",
        "        self.age = age\n",
        "\n",
        "    def greet(self):\n",
        "        print(f\"Hello, my name is {self.name} and I am {self.age} years old.\")\n",
        "\n",
        "# Create Person objects\n",
        "p1 = Person(\"Priyanshu\", 18)\n",
        "p2 = Person(\"Ansh\", 20)\n",
        "\n",
        "p1.greet()\n",
        "p2.greet()\n"
      ],
      "metadata": {
        "colab": {
          "base_uri": "https://localhost:8080/"
        },
        "id": "pI6H0ycsptP7",
        "outputId": "f1c8ea3f-4a65-47f1-97dd-c07a692683fb"
      },
      "execution_count": 19,
      "outputs": [
        {
          "output_type": "stream",
          "name": "stdout",
          "text": [
            "Hello, my name is Priyanshu and I am 18 years old.\n",
            "Hello, my name is Ansh and I am 20 years old.\n"
          ]
        }
      ]
    },
    {
      "cell_type": "code",
      "source": [
        "'''Q12 Implement a class Student with attributes name and grades. Create a method average_grade() to compute\n",
        "the average of the grades.'''\n",
        "\n",
        "class Student:\n",
        "    def __init__(self, name, grades):\n",
        "        self.name = name\n",
        "        self.grades = grades\n",
        "\n",
        "    def average_grade(self):\n",
        "        return sum(self.grades) / len(self.grades) if self.grades else 0\n",
        "\n",
        "# Create Student objects\n",
        "s1 = Student(\"Ansh\", [100, 100, 100])\n",
        "s2 = Student(\"Ananya didi\", [70, 88, 92, 80])\n",
        "\n",
        "# Compute average grades\n",
        "print(f\"{s1.name}'s average grade:\", s1.average_grade())\n",
        "print(f\"{s2.name}'s average grade:\", s2.average_grade())\n"
      ],
      "metadata": {
        "colab": {
          "base_uri": "https://localhost:8080/"
        },
        "id": "FvLEUDcaqIN3",
        "outputId": "157ce4f5-abda-4792-bbba-0e0228a2806d"
      },
      "execution_count": 20,
      "outputs": [
        {
          "output_type": "stream",
          "name": "stdout",
          "text": [
            "Ansh's average grade: 100.0\n",
            "Ananya didi's average grade: 82.5\n"
          ]
        }
      ]
    },
    {
      "cell_type": "code",
      "source": [
        "'''Q13  Create a class Rectangle with methods set_dimensions() to set the dimensions and area() to calculate the\n",
        "area.'''\n",
        "\n",
        "class Rectangle:\n",
        "    def __init__(self):\n",
        "        self.length = 0\n",
        "        self.width = 0\n",
        "\n",
        "\n",
        "    def set_dimensions(self, length, width):\n",
        "        self.length = length\n",
        "        self.width = width\n",
        "\n",
        "\n",
        "    def area(self):\n",
        "        return self.length * self.width\n",
        "\n",
        "\n",
        "rect = Rectangle()\n",
        "rect.set_dimensions(12, 3)\n",
        "\n",
        "print(\"Area of rectangle:\", rect.area())\n"
      ],
      "metadata": {
        "colab": {
          "base_uri": "https://localhost:8080/"
        },
        "id": "9uZet-3RqnkL",
        "outputId": "66520001-5b6f-47cd-ec8b-61bfb935876c"
      },
      "execution_count": 22,
      "outputs": [
        {
          "output_type": "stream",
          "name": "stdout",
          "text": [
            "Area of rectangle: 36\n"
          ]
        }
      ]
    },
    {
      "cell_type": "code",
      "source": [
        "'''Q14  Create a class Employee with a method calculate_salary() that computes the salary based on hours worked\n",
        "and hourly rate. Create a derived class Manager that adds a bonus to the salary '''\n",
        "\n",
        "\n",
        "class Employee:\n",
        "    def __init__(self, name, hours_worked, hourly_rate):\n",
        "        self.name = name\n",
        "        self.hours_worked = hours_worked\n",
        "        self.hourly_rate = hourly_rate\n",
        "\n",
        "\n",
        "    def calculate_salary(self):\n",
        "        return self.hours_worked * self.hourly_rate\n",
        "\n",
        "\n",
        "class Manager(Employee):\n",
        "    def __init__(self, name, hours_worked, hourly_rate, bonus):\n",
        "        super().__init__(name, hours_worked, hourly_rate)\n",
        "        self.bonus = bonus\n",
        "\n",
        "\n",
        "    def calculate_salary(self):\n",
        "        base_salary = super().calculate_salary()\n",
        "        return base_salary + self.bonus\n",
        "\n",
        "e1 = Employee(\"Ansh\", 1000, 200)\n",
        "m1 = Manager(\"Ananya didi\", 40, 200, 5000)\n",
        "\n",
        "# Calculate salaries\n",
        "print(f\"{e1.name}'s salary:\", e1.calculate_salary())\n",
        "print(f\"{m1.name}'s salary:\", m1.calculate_salary())\n"
      ],
      "metadata": {
        "colab": {
          "base_uri": "https://localhost:8080/"
        },
        "id": "UQYA1aECq4Q1",
        "outputId": "340a8655-99e1-4334-d088-c6a46cee29ef"
      },
      "execution_count": 23,
      "outputs": [
        {
          "output_type": "stream",
          "name": "stdout",
          "text": [
            "Ansh's salary: 200000\n",
            "Ananya didi's salary: 13000\n"
          ]
        }
      ]
    },
    {
      "cell_type": "code",
      "source": [
        "'''Q15  Create a class Product with attributes name, price, and quantity. Implement a method total_price() that\n",
        "calculates the total price of the product. '''\n",
        "\n",
        "class Product:\n",
        "    def __init__(self, name, price, quantity):\n",
        "        self.name = name\n",
        "        self.price = price\n",
        "        self.quantity = quantity\n",
        "\n",
        "\n",
        "    def total_price(self):\n",
        "        return self.price * self.quantity\n",
        "\n",
        "p1 = Product(\"Laptop\", 50000, 2)\n",
        "p2 = Product(\"Phone\", 15000, 3)\n",
        "\n",
        "# Calculate total prices\n",
        "print(f\"Total price of {p1.name}:\", p1.total_price())\n",
        "print(f\"Total price of {p2.name}:\", p2.total_price())\n"
      ],
      "metadata": {
        "colab": {
          "base_uri": "https://localhost:8080/"
        },
        "id": "6RPwmXrOri-6",
        "outputId": "37662348-73bb-4550-e3fd-ca37b9ad7ce4"
      },
      "execution_count": 24,
      "outputs": [
        {
          "output_type": "stream",
          "name": "stdout",
          "text": [
            "Total price of Laptop: 100000\n",
            "Total price of Phone: 45000\n"
          ]
        }
      ]
    },
    {
      "cell_type": "code",
      "source": [
        "'''Q16  Create a class Animal with an abstract method sound(). Create two derived classes Cow and Sheep that\n",
        "implement the sound() method.'''\n",
        "\n",
        "from abc import ABC, abstractmethod\n",
        "\n",
        "\n",
        "class Animal(ABC):\n",
        "    @abstractmethod\n",
        "    def sound(self):\n",
        "        pass\n",
        "\n",
        "# Derived class Cow\n",
        "class Cow(Animal):\n",
        "    def sound(self):\n",
        "        print(\"Cow says Moo\")\n",
        "\n",
        "# Derived class Sheep\n",
        "class Sheep(Animal):\n",
        "    def sound(self):\n",
        "        print(\"Sheep says Baa\")\n",
        "\n",
        "\n",
        "c = Cow()\n",
        "s = Sheep()\n",
        "\n",
        "c.sound()\n",
        "s.sound()\n"
      ],
      "metadata": {
        "colab": {
          "base_uri": "https://localhost:8080/"
        },
        "id": "SUa3sUpLryky",
        "outputId": "b45b0b81-f02d-4ef7-de58-021ceb91dd33"
      },
      "execution_count": 25,
      "outputs": [
        {
          "output_type": "stream",
          "name": "stdout",
          "text": [
            "Cow says Moo\n",
            "Sheep says Baa\n"
          ]
        }
      ]
    },
    {
      "cell_type": "code",
      "source": [
        "'''Q17  Create a class Book with attributes title, author, and year_published. Add a method get_book_info() that\n",
        "returns a formatted string with the book's details. '''\n",
        "\n",
        "class Book:\n",
        "    def __init__(self, title, author, year_published):\n",
        "        self.title = title\n",
        "        self.author = author\n",
        "        self.year_published = year_published\n",
        "\n",
        "\n",
        "    def get_book_info(self):\n",
        "        return f\"'{self.title}' by {self.author}, published in {self.year_published}\"\n",
        "\n",
        "\n",
        "b1 = Book(\"Gitanjali\", \"Rabindranath Tagore\", 1910)\n",
        "b2 = Book(\"Godaan\", \"Munshi Premchand\", 1936)\n",
        "\n",
        "\n",
        "print(b1.get_book_info())\n",
        "print(b2.get_book_info())\n"
      ],
      "metadata": {
        "colab": {
          "base_uri": "https://localhost:8080/"
        },
        "id": "5LOsR-txsKY2",
        "outputId": "0ae1c0aa-608c-4b40-f5b4-c06562dca2ac"
      },
      "execution_count": 26,
      "outputs": [
        {
          "output_type": "stream",
          "name": "stdout",
          "text": [
            "'Gitanjali' by Rabindranath Tagore, published in 1910\n",
            "'Godaan' by Munshi Premchand, published in 1936\n"
          ]
        }
      ]
    },
    {
      "cell_type": "code",
      "source": [
        "'''Q18 Create a class House with attributes address and price. Create a derived class Mansion that adds an\n",
        "attribute number_of_rooms. '''\n",
        "\n",
        "\n",
        "class House:\n",
        "    def __init__(self, address, price):\n",
        "        self.address = address\n",
        "        self.price = price\n",
        "\n",
        "    def get_info(self):\n",
        "        return f\"House at {self.address} priced at {self.price}\"\n",
        "\n",
        "\n",
        "class Mansion(House):\n",
        "    def __init__(self, address, price, number_of_rooms):\n",
        "        super().__init__(address, price)\n",
        "        self.number_of_rooms = number_of_rooms\n",
        "\n",
        "    def get_info(self):\n",
        "        return f\"Mansion at {self.address} priced at {self.price} with {self.number_of_rooms} rooms\"\n",
        "\n",
        "\n",
        "h = House(\"Kasturi Vatika\", 500000)\n",
        "m = Mansion(\"Oasis City\", 5000000, 10)\n",
        "\n",
        "# Display info\n",
        "print(h.get_info())\n",
        "print(m.get_info())\n"
      ],
      "metadata": {
        "colab": {
          "base_uri": "https://localhost:8080/"
        },
        "id": "NIg3AmFnsk-J",
        "outputId": "79a7d32e-48fe-4b98-e508-8119813cc627"
      },
      "execution_count": 27,
      "outputs": [
        {
          "output_type": "stream",
          "name": "stdout",
          "text": [
            "House at Kasturi Vatika priced at 500000\n",
            "Mansion at Oasis City priced at 5000000 with 10 rooms\n"
          ]
        }
      ]
    },
    {
      "cell_type": "markdown",
      "source": [
        "#END OF PRACTICAL QUESTIONS"
      ],
      "metadata": {
        "id": "O9C5VcEgtVQ-"
      }
    }
  ]
}